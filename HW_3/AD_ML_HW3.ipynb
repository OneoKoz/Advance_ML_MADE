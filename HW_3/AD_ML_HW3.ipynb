{
 "cells": [
  {
   "cell_type": "code",
   "execution_count": 226,
   "metadata": {
    "collapsed": true,
    "ExecuteTime": {
     "start_time": "2023-04-30T02:13:08.743405Z",
     "end_time": "2023-04-30T02:13:08.746243Z"
    }
   },
   "outputs": [],
   "source": [
    "import io\n",
    "import random\n",
    "import re\n",
    "from collections import defaultdict\n",
    "\n",
    "import numpy as np\n",
    "import pandas as pd"
   ]
  },
  {
   "cell_type": "code",
   "execution_count": 147,
   "outputs": [],
   "source": [
    "ann_kor_file = './corpora/AnnaKarenina.txt'\n",
    "war_pc_file = './corpora/WarAndPeace.txt'\n",
    "war_pc_eng_file = './corpora/WarAndPeaceEng.txt'"
   ],
   "metadata": {
    "collapsed": false,
    "ExecuteTime": {
     "start_time": "2023-04-28T22:01:07.415161Z",
     "end_time": "2023-04-28T22:01:07.421148Z"
    }
   }
  },
  {
   "cell_type": "code",
   "execution_count": 148,
   "outputs": [],
   "source": [
    "def get_text(path):\n",
    "    with io.open(path, encoding='utf-8') as file:\n",
    "        return file.readlines()\n",
    "\n",
    "\n",
    "text_ak = get_text(ann_kor_file)\n",
    "text_wp = get_text(war_pc_file)\n",
    "\n",
    "train_text = []\n",
    "for line in text_wp + text_ak:\n",
    "    cur_line = re.sub('[^а-я ]', '', line.lower())\n",
    "    if cur_line.strip():\n",
    "        train_text.append(cur_line)\n",
    "\n",
    "random.shuffle(train_text)"
   ],
   "metadata": {
    "collapsed": false,
    "ExecuteTime": {
     "start_time": "2023-04-28T22:01:11.650744Z",
     "end_time": "2023-04-28T22:01:11.769659Z"
    }
   }
  },
  {
   "cell_type": "code",
   "execution_count": 150,
   "outputs": [],
   "source": [
    "RU_ALPHABET = 'АаБбВвГгДдЕеЁёЖжЗзИиЙйКкЛлМмНнОоПпРрСсТтУуФфХхЦцЧчШшЩщЪъЫыЬьЭэЮюЯя'\n",
    "RU_ALPHABET = RU_ALPHABET[1::2] + ' '"
   ],
   "metadata": {
    "collapsed": false,
    "ExecuteTime": {
     "start_time": "2023-04-28T22:01:34.858568Z",
     "end_time": "2023-04-28T22:01:34.867571Z"
    }
   }
  },
  {
   "cell_type": "code",
   "execution_count": 151,
   "outputs": [],
   "source": [
    "TEST_SIZE = 5\n",
    "TEST_LEN_SENT = 15\n",
    "\n",
    "test_text = []\n",
    "for ind, line in enumerate(train_text):\n",
    "    if len(line) > TEST_LEN_SENT:\n",
    "        test_text.append(line)\n",
    "        train_text.pop(ind)\n",
    "        if len(test_text) == TEST_SIZE:\n",
    "            break\n"
   ],
   "metadata": {
    "collapsed": false,
    "ExecuteTime": {
     "start_time": "2023-04-28T22:01:39.960963Z",
     "end_time": "2023-04-28T22:01:39.966971Z"
    }
   }
  },
  {
   "cell_type": "code",
   "execution_count": 152,
   "outputs": [],
   "source": [
    "encoder_dict = dict(zip(RU_ALPHABET, random.sample(RU_ALPHABET, len(RU_ALPHABET))))"
   ],
   "metadata": {
    "collapsed": false,
    "ExecuteTime": {
     "start_time": "2023-04-28T22:01:41.765142Z",
     "end_time": "2023-04-28T22:01:41.774763Z"
    }
   }
  },
  {
   "cell_type": "code",
   "execution_count": 153,
   "outputs": [
    {
     "data": {
      "text/plain": "real     князь андрей для полноты трофея пленников выст...\ncoded    музтэёиур цчёрызёбдыуджхёж дкцзёбыцуусмдпёпхйж...\nName: 0, dtype: object"
     },
     "execution_count": 153,
     "metadata": {},
     "output_type": "execute_result"
    }
   ],
   "source": [
    "test_text_df = pd.DataFrame(list(zip(test_text, test_text.copy())), columns=['real', 'coded'])\n",
    "test_text_df['coded'] = test_text_df['coded'].apply(lambda x: ''.join(encoder_dict[char] for char in x))\n",
    "test_text_df.iloc[0]"
   ],
   "metadata": {
    "collapsed": false,
    "ExecuteTime": {
     "start_time": "2023-04-28T22:01:43.475814Z",
     "end_time": "2023-04-28T22:01:43.481308Z"
    }
   }
  },
  {
   "cell_type": "code",
   "execution_count": 154,
   "outputs": [],
   "source": [
    "def accuracy(df, decoded_col, real_col='real'):\n",
    "    total_len = 0\n",
    "    acc_len = 0\n",
    "    for l_line, r_line in zip(df[decoded_col], df[real_col]):\n",
    "        total_len += len(l_line)\n",
    "        for l_ch, r_ch in zip(l_line, r_line):\n",
    "            if l_ch == r_ch:\n",
    "                acc_len += 1\n",
    "    return acc_len / total_len"
   ],
   "metadata": {
    "collapsed": false,
    "ExecuteTime": {
     "start_time": "2023-04-28T22:01:45.450122Z",
     "end_time": "2023-04-28T22:01:45.457316Z"
    }
   }
  },
  {
   "cell_type": "markdown",
   "source": [
    "## Базовый частотный метод по Шерлоку Холмсу:"
   ],
   "metadata": {
    "collapsed": false
   }
  },
  {
   "cell_type": "code",
   "execution_count": 180,
   "outputs": [],
   "source": [
    "def get_frec_dict(text):\n",
    "    frec_dict = defaultdict(int)\n",
    "    for line in text:\n",
    "        for char in line:\n",
    "            frec_dict[char] += 1\n",
    "    return frec_dict\n",
    "\n",
    "\n",
    "frec_dict_train = get_frec_dict(train_text)\n",
    "frec_dict_test = get_frec_dict(test_text_df['coded'])"
   ],
   "metadata": {
    "collapsed": false,
    "ExecuteTime": {
     "start_time": "2023-04-28T22:10:12.854025Z",
     "end_time": "2023-04-28T22:10:13.210737Z"
    }
   }
  },
  {
   "cell_type": "code",
   "execution_count": 321,
   "outputs": [],
   "source": [
    "def get_sort_keys(cur_dict):\n",
    "    return dict(sorted(cur_dict.items(), key=lambda x: x[1], reverse=True)).keys()"
   ],
   "metadata": {
    "collapsed": false,
    "ExecuteTime": {
     "start_time": "2023-04-30T03:11:38.094123Z",
     "end_time": "2023-04-30T03:11:38.104609Z"
    }
   }
  },
  {
   "cell_type": "code",
   "execution_count": 181,
   "outputs": [],
   "source": [
    "frec_train_sort_key = get_sort_keys(frec_dict_train)\n",
    "frec_test_sort_key = get_sort_keys(frec_dict_test)\n",
    "\n",
    "decoder_dict = dict(zip(frec_test_sort_key, frec_train_sort_key))"
   ],
   "metadata": {
    "collapsed": false,
    "ExecuteTime": {
     "start_time": "2023-04-28T22:10:13.210737Z",
     "end_time": "2023-04-28T22:10:13.219758Z"
    }
   }
  },
  {
   "cell_type": "code",
   "execution_count": 183,
   "outputs": [],
   "source": [
    "for ind, line in enumerate(test_text_df['coded']):\n",
    "    test_text_df.at[ind, 'decoded'] = ''.join(decoder_dict[char] for char in line)"
   ],
   "metadata": {
    "collapsed": false,
    "ExecuteTime": {
     "start_time": "2023-04-28T22:10:20.963243Z",
     "end_time": "2023-04-28T22:10:20.969760Z"
    }
   }
  },
  {
   "cell_type": "code",
   "execution_count": 184,
   "outputs": [
    {
     "data": {
      "text/plain": "0.5147420147420148"
     },
     "execution_count": 184,
     "metadata": {},
     "output_type": "execute_result"
    }
   ],
   "source": [
    "accuracy(test_text_df, decoded_col='decoded')"
   ],
   "metadata": {
    "collapsed": false,
    "ExecuteTime": {
     "start_time": "2023-04-28T22:10:42.028207Z",
     "end_time": "2023-04-28T22:10:42.082409Z"
    }
   }
  },
  {
   "cell_type": "code",
   "execution_count": 193,
   "outputs": [
    {
     "data": {
      "text/plain": "'князь андрей для полноты трофея пленников выставленный также вперед на глаза императору не мог не привлечь его внимания наполеон видимо вспомнил что он видел его на поле и обращаясь к нему употребил то самое наименование молодого человека    под которым болконский в первый раз отразился в его памяти'"
     },
     "execution_count": 193,
     "metadata": {},
     "output_type": "execute_result"
    }
   ],
   "source": [
    "test_text_df.iloc[0]['real']"
   ],
   "metadata": {
    "collapsed": false,
    "ExecuteTime": {
     "start_time": "2023-04-28T22:13:04.191381Z",
     "end_time": "2023-04-28T22:13:04.234083Z"
    }
   }
  },
  {
   "cell_type": "code",
   "execution_count": 194,
   "outputs": [
    {
     "data": {
      "text/plain": "'уипчб аидвеж дсп мосиоть твоюеп мсеиинуол льрталсеииьж тауйе лмевед иа гсача нкмеватовя ие ког ие мвнлсеыб его линкаинп иамосеои лнднко лрмокинс ыто ои лндес его иа мосе н озваэапрб у иекя ямотвезнс то ракое ианкеиолаине косодого ыесолеуа    мод уотовьк зосуоирунж л мевльж вач отвачнсрп л его макптн'"
     },
     "execution_count": 194,
     "metadata": {},
     "output_type": "execute_result"
    }
   ],
   "source": [
    "test_text_df.iloc[0]['decoded']"
   ],
   "metadata": {
    "collapsed": false,
    "ExecuteTime": {
     "start_time": "2023-04-28T22:13:16.989507Z",
     "end_time": "2023-04-28T22:13:17.014573Z"
    }
   }
  },
  {
   "cell_type": "markdown",
   "source": [
    "## Частотный метод для биграмм"
   ],
   "metadata": {
    "collapsed": false
   }
  },
  {
   "cell_type": "code",
   "execution_count": 379,
   "outputs": [],
   "source": [
    "def get_frec_dict_ngram(text, ngram=2):\n",
    "    frec_dict = defaultdict(int)\n",
    "    for line in text:\n",
    "        for ind, _ in enumerate(line[:len(line) - ngram + 1]):\n",
    "            frec_dict[line[ind:ind + ngram]] += 1\n",
    "    return frec_dict\n",
    "\n",
    "\n",
    "frec_dict_train_bigram = get_frec_dict_ngram(train_text)\n",
    "frec_dict_test_bigram = get_frec_dict_ngram(test_text_df['coded'])"
   ],
   "metadata": {
    "collapsed": false,
    "ExecuteTime": {
     "start_time": "2023-04-30T03:28:07.922745Z",
     "end_time": "2023-04-30T03:28:08.679137Z"
    }
   }
  },
  {
   "cell_type": "code",
   "execution_count": 201,
   "outputs": [],
   "source": [
    "frec_train_sort_key_bigram = get_sort_keys(frec_dict_train_bigram)\n",
    "frec_test_sort_key_bigram = get_sort_keys(frec_dict_test_bigram)\n",
    "\n",
    "decoder_dict_bigram = dict(zip(frec_test_sort_key_bigram, frec_train_sort_key_bigram))"
   ],
   "metadata": {
    "collapsed": false,
    "ExecuteTime": {
     "start_time": "2023-04-29T11:27:28.804342Z",
     "end_time": "2023-04-29T11:27:28.810176Z"
    }
   }
  },
  {
   "cell_type": "code",
   "execution_count": 207,
   "outputs": [],
   "source": [
    "def decode_text(df_text, decod_dict, frec_dict_coded, ngram=2):\n",
    "    for ind, line in enumerate(df_text['coded']):\n",
    "        if len(line) < ngram:\n",
    "            df_text.at[ind, f'decoded_{ngram}'] = line\n",
    "        else:\n",
    "            decoded_line = []\n",
    "            for char_ind, _ in enumerate(line):\n",
    "                l_ngram = line[char_ind - ngram + 1:char_ind + 1] if char_ind - ngram + 1 >= 0 else None\n",
    "                r_ngram = line[char_ind:char_ind + ngram] if char_ind + ngram <= len(line) else None\n",
    "\n",
    "                if not l_ngram:\n",
    "                    decoded_line.append(decod_dict[r_ngram])\n",
    "                    continue\n",
    "\n",
    "                if l_ngram and r_ngram:\n",
    "                    if frec_dict_coded[l_ngram] >= frec_dict_coded[r_ngram]:\n",
    "                        decoded_line.append(decod_dict[r_ngram][1:])\n",
    "                    else:\n",
    "                        decoded_line[-1] = '' if len(decoded_line[-1]) == 1 else decoded_line[-1][:1]\n",
    "                        decoded_line.append(decod_dict[r_ngram])\n",
    "            df_text.at[ind, f'decoded_{ngram}'] = ''.join(decoded_line)"
   ],
   "metadata": {
    "collapsed": false,
    "ExecuteTime": {
     "start_time": "2023-04-29T11:59:56.831524Z",
     "end_time": "2023-04-29T11:59:56.838936Z"
    }
   }
  },
  {
   "cell_type": "code",
   "execution_count": 208,
   "outputs": [],
   "source": [
    "decode_text(test_text_df, decoder_dict_bigram, frec_dict_test_bigram)"
   ],
   "metadata": {
    "collapsed": false,
    "ExecuteTime": {
     "start_time": "2023-04-29T12:00:27.872936Z",
     "end_time": "2023-04-29T12:00:27.940278Z"
    }
   }
  },
  {
   "cell_type": "code",
   "execution_count": 212,
   "outputs": [
    {
     "data": {
      "text/plain": "0.1511056511056511"
     },
     "execution_count": 212,
     "metadata": {},
     "output_type": "execute_result"
    }
   ],
   "source": [
    "accuracy(test_text_df, decoded_col='decoded_2')"
   ],
   "metadata": {
    "collapsed": false,
    "ExecuteTime": {
     "start_time": "2023-04-29T12:01:11.364814Z",
     "end_time": "2023-04-29T12:01:11.386276Z"
    }
   }
  },
  {
   "cell_type": "code",
   "execution_count": 213,
   "outputs": [
    {
     "data": {
      "text/plain": "'князь андрей для полноты трофея пленников выставленный также вперед на глаза императору не мог не привлечь его внимания наполеон видимо вспомнил что он видел его на поле и обращаясь к нему употребил то самое наименование молодого человека    под которым болконский в первый раз отразился в его памяти'"
     },
     "execution_count": 213,
     "metadata": {},
     "output_type": "execute_result"
    }
   ],
   "source": [
    "test_text_df.iloc[0]['real']"
   ],
   "metadata": {
    "collapsed": false,
    "ExecuteTime": {
     "start_time": "2023-04-29T12:01:28.724273Z",
     "end_time": "2023-04-29T12:01:28.759618Z"
    }
   }
  },
  {
   "cell_type": "code",
   "execution_count": 214,
   "outputs": [
    {
     "data": {
      "text/plain": "'певд д зо чо нсно отйкабалоесьно  тр  воое н п б трнеоальух е оь чс и в рер вв оь етор  и су н и о лиж тк нини        н ил оттлае алм и  с оа  горти оае алегоини и о от са отнечдоу ра итк ме оаочтнготи кос  силм  й о    сустмкони рттроел в  о осракторслобствлаылуое о ь аноннерпоанерн оне нини  оседо'"
     },
     "execution_count": 214,
     "metadata": {},
     "output_type": "execute_result"
    }
   ],
   "source": [
    "test_text_df.iloc[0]['decoded_2']"
   ],
   "metadata": {
    "collapsed": false,
    "ExecuteTime": {
     "start_time": "2023-04-29T12:01:45.687995Z",
     "end_time": "2023-04-29T12:01:45.721077Z"
    }
   }
  },
  {
   "cell_type": "markdown",
   "source": [
    "## MCMC-сэмплирование"
   ],
   "metadata": {
    "collapsed": false
   }
  },
  {
   "cell_type": "code",
   "execution_count": 419,
   "outputs": [],
   "source": [
    "def get_likelihood(text, decoder, ngram_dict, coef, ngram=2 ):\n",
    "    likelihood = 0\n",
    "    decoded_line = ''.join(decoder[char] for char in text)\n",
    "    for ind, _ in enumerate(decoded_line[:len(decoded_line) - ngram + 1]):\n",
    "        likelihood += np.log(ngram_dict.get(decoded_line[ind: ind + ngram], 1/coef))\n",
    "    return likelihood"
   ],
   "metadata": {
    "collapsed": false,
    "ExecuteTime": {
     "start_time": "2023-04-30T03:44:19.736144Z",
     "end_time": "2023-04-30T03:44:19.738141Z"
    }
   }
  },
  {
   "cell_type": "code",
   "execution_count": 420,
   "outputs": [],
   "source": [
    "def random_change_el(keys_list):\n",
    "    l_key, r_key = random.sample(range(len(keys_list)), k=2)\n",
    "    new_list = keys_list.copy()\n",
    "    new_list[r_key], new_list[l_key] = new_list[l_key], new_list[r_key]\n",
    "    return new_list"
   ],
   "metadata": {
    "collapsed": false,
    "ExecuteTime": {
     "start_time": "2023-04-30T03:44:20.023336Z",
     "end_time": "2023-04-30T03:44:20.029828Z"
    }
   }
  },
  {
   "cell_type": "code",
   "execution_count": 421,
   "outputs": [],
   "source": [
    "def is_update_likelihood(old_l, new_l):\n",
    "    if new_l > old_l:\n",
    "        return True\n",
    "    else:\n",
    "        return random.random() < np.exp(new_l - old_l)"
   ],
   "metadata": {
    "collapsed": false,
    "ExecuteTime": {
     "start_time": "2023-04-30T03:44:20.480977Z",
     "end_time": "2023-04-30T03:44:20.484475Z"
    }
   }
  },
  {
   "cell_type": "code",
   "execution_count": 493,
   "outputs": [],
   "source": [
    "def train(train_t, test, iter=15000, tryed=5, ngram=2):\n",
    "#tryed - для решения проблемы с локальными минимумами\n",
    "    dict_frec_train_prob = get_frec_dict_ngram(train_t, ngram=ngram)\n",
    "    coef_count = sum(dict_frec_train_prob.values())\n",
    "    for key in dict_frec_train_prob.keys():\n",
    "        dict_frec_train_prob[key] /= coef_count\n",
    "\n",
    "    best_likelihood = -np.inf\n",
    "    best_decoder = {}\n",
    "\n",
    "    for _ in range(tryed):\n",
    "        frec_train = list(get_sort_keys(get_frec_dict(train_t)))\n",
    "        frec_test = list(get_sort_keys(get_frec_dict(test)))\n",
    "        decoder_dict = dict(zip(frec_test, frec_train))\n",
    "        likelihood = get_likelihood(''.join(test), decoder_dict, dict_frec_train_prob, coef_count, ngram=ngram)\n",
    "        for _ in range(iter):\n",
    "            new_frec_train = random_change_el(frec_train)\n",
    "            new_decoder_dict = dict(zip(frec_test, new_frec_train))\n",
    "            new_likelihood = get_likelihood(''.join(test), new_decoder_dict, dict_frec_train_prob, coef_count, ngram=ngram)\n",
    "            if is_update_likelihood(likelihood, new_likelihood):\n",
    "                likelihood = new_likelihood\n",
    "                frec_train = new_frec_train\n",
    "\n",
    "                if new_likelihood > best_likelihood:\n",
    "                    best_likelihood = new_likelihood\n",
    "                    best_decoder = new_decoder_dict\n",
    "    return best_likelihood, best_decoder\n"
   ],
   "metadata": {
    "collapsed": false,
    "ExecuteTime": {
     "start_time": "2023-04-30T04:10:11.514078Z",
     "end_time": "2023-04-30T04:10:11.532237Z"
    }
   }
  },
  {
   "cell_type": "code",
   "execution_count": 446,
   "outputs": [],
   "source": [
    "likelihood_mcmc, decoder_mcmc = train(train_text, test_text_df['coded'])"
   ],
   "metadata": {
    "collapsed": false,
    "ExecuteTime": {
     "start_time": "2023-04-30T03:57:51.263423Z",
     "end_time": "2023-04-30T03:58:07.912742Z"
    }
   }
  },
  {
   "cell_type": "code",
   "execution_count": 447,
   "outputs": [
    {
     "data": {
      "text/plain": "-4467.754185450096"
     },
     "execution_count": 447,
     "metadata": {},
     "output_type": "execute_result"
    }
   ],
   "source": [
    "likelihood_mcmc"
   ],
   "metadata": {
    "collapsed": false,
    "ExecuteTime": {
     "start_time": "2023-04-30T03:58:07.914710Z",
     "end_time": "2023-04-30T03:58:07.921513Z"
    }
   }
  },
  {
   "cell_type": "code",
   "execution_count": 448,
   "outputs": [],
   "source": [
    "for ind, line in enumerate(test_text_df['coded']):\n",
    "    test_text_df.at[ind, 'decoded_mcmc'] = ''.join(decoder_mcmc[char] for char in line)"
   ],
   "metadata": {
    "collapsed": false,
    "ExecuteTime": {
     "start_time": "2023-04-30T03:58:07.920516Z",
     "end_time": "2023-04-30T03:58:07.927433Z"
    }
   }
  },
  {
   "cell_type": "code",
   "execution_count": 449,
   "outputs": [
    {
     "data": {
      "text/plain": "0.9963144963144963"
     },
     "execution_count": 449,
     "metadata": {},
     "output_type": "execute_result"
    }
   ],
   "source": [
    "accuracy(test_text_df, 'decoded_mcmc')"
   ],
   "metadata": {
    "collapsed": false,
    "ExecuteTime": {
     "start_time": "2023-04-30T03:58:07.929427Z",
     "end_time": "2023-04-30T03:58:07.936221Z"
    }
   }
  },
  {
   "cell_type": "code",
   "execution_count": 450,
   "outputs": [
    {
     "data": {
      "text/plain": "'князь андрей для полноты трофея пленников выставленный также вперед на глаза императору не мог не привлечь его внимания наполеон видимо вспомнил что он видел его на поле и обращаясь к нему употребил то самое наименование молодого человека    под которым болконский в первый раз отразился в его памяти'"
     },
     "execution_count": 450,
     "metadata": {},
     "output_type": "execute_result"
    }
   ],
   "source": [
    "test_text_df.iloc[0]['real']"
   ],
   "metadata": {
    "collapsed": false,
    "ExecuteTime": {
     "start_time": "2023-04-30T03:58:07.935224Z",
     "end_time": "2023-04-30T03:58:07.965830Z"
    }
   }
  },
  {
   "cell_type": "code",
   "execution_count": 451,
   "outputs": [
    {
     "data": {
      "text/plain": "'князь андрей для полноты троцея пленников выставленный также вперед на глаза императору не мог не привлечь его внимания наполеон видимо вспомнил что он видел его на поле и обращаясь к нему употребил то самое наименование молодого человека    под которым болконский в первый раз отразился в его памяти'"
     },
     "execution_count": 451,
     "metadata": {},
     "output_type": "execute_result"
    }
   ],
   "source": [
    "test_text_df.iloc[0]['decoded_mcmc']"
   ],
   "metadata": {
    "collapsed": false,
    "ExecuteTime": {
     "start_time": "2023-04-30T03:58:07.944771Z",
     "end_time": "2023-04-30T03:58:07.965830Z"
    }
   }
  },
  {
   "cell_type": "markdown",
   "source": [
    "## Тестовое задание"
   ],
   "metadata": {
    "collapsed": false
   }
  },
  {
   "cell_type": "code",
   "execution_count": 477,
   "outputs": [],
   "source": [
    "main_test = \"\"\"←⇠⇒↟↹↷⇊↹↷↟↤↟↨←↹↝⇛⇯↳⇴⇒⇈↝⇊↾↹↟⇒↟↹⇷⇛⇞↨↟↹↝⇛⇯↳⇴⇒⇈↝⇊↾↹↨←⇌⇠↨↹⇙↹⇸↨⇛↙⇛↹⇠⇛⇛↲⇆←↝↟↞↹⇌⇛↨⇛⇯⇊↾↹⇒←↙⇌⇛↹⇷⇯⇛⇞↟↨⇴↨⇈↹⇠⇌⇛⇯←←↹↷⇠←↙⇛↹↷⇊↹↷⇠←↹⇠↤←⇒⇴⇒↟↹⇷⇯⇴↷↟⇒⇈↝⇛↹↟↹⇷⇛⇒⇙⇞↟↨←↹↳⇴⇌⇠↟↳⇴⇒⇈↝⇊↾↹↲⇴⇒⇒↹⇰⇴↹⇷⇛⇠⇒←↤↝←←↹⇞←↨↷←⇯↨⇛←↹⇰⇴↤⇴↝↟←↹⇌⇙⇯⇠⇴↹↘⇛↨↞↹⇌⇛↝←⇞↝⇛↹↞↹↝↟⇞←↙⇛↹↝←↹⇛↲←⇆⇴⇏\"\"\""
   ],
   "metadata": {
    "collapsed": false,
    "ExecuteTime": {
     "start_time": "2023-04-30T04:03:44.645576Z",
     "end_time": "2023-04-30T04:03:44.656549Z"
    }
   }
  },
  {
   "cell_type": "code",
   "execution_count": 494,
   "outputs": [],
   "source": [
    "main_likelihood, main_decoder = train(train_text, main_test)"
   ],
   "metadata": {
    "collapsed": false,
    "ExecuteTime": {
     "start_time": "2023-04-30T04:10:14.638975Z",
     "end_time": "2023-04-30T04:10:39.526469Z"
    }
   }
  },
  {
   "cell_type": "code",
   "execution_count": 495,
   "outputs": [
    {
     "data": {
      "text/plain": "-1242.95892914957"
     },
     "execution_count": 495,
     "metadata": {},
     "output_type": "execute_result"
    }
   ],
   "source": [
    "main_likelihood"
   ],
   "metadata": {
    "collapsed": false,
    "ExecuteTime": {
     "start_time": "2023-04-30T04:10:39.528464Z",
     "end_time": "2023-04-30T04:10:39.534687Z"
    }
   }
  },
  {
   "cell_type": "code",
   "execution_count": 496,
   "outputs": [
    {
     "data": {
      "text/plain": "'если вы вимите нордальный или почти нордальный текст у этого сообщения который легко прочитать скорее всего вы все смелали правильно и получите даксидальный балл за послемнее четвертое замание курса хотя конечно я ничего не обещаж'"
     },
     "execution_count": 496,
     "metadata": {},
     "output_type": "execute_result"
    }
   ],
   "source": [
    "main_decoded_line = ''.join(main_decoder[char] for char in main_test)\n",
    "main_decoded_line"
   ],
   "metadata": {
    "collapsed": false,
    "ExecuteTime": {
     "start_time": "2023-04-30T04:10:46.386561Z",
     "end_time": "2023-04-30T04:10:46.427044Z"
    }
   }
  },
  {
   "cell_type": "markdown",
   "source": [
    "### Попробуем увеличить количество символов в n-грамме"
   ],
   "metadata": {
    "collapsed": false
   }
  },
  {
   "cell_type": "code",
   "execution_count": 433,
   "outputs": [],
   "source": [
    "real_test = \"если вы видите нормальный или почти нормальный текст у этого сообщения который легко прочитать скорее всего вы все сделали правильно и получите максимальный балл за последнее четвертое задание курса хотя конечно я ничего не обещаю\""
   ],
   "metadata": {
    "collapsed": false,
    "ExecuteTime": {
     "start_time": "2023-04-30T03:55:53.921911Z",
     "end_time": "2023-04-30T03:55:53.924930Z"
    }
   }
  },
  {
   "cell_type": "code",
   "execution_count": 436,
   "outputs": [
    {
     "data": {
      "text/plain": "-1737.1210389749433"
     },
     "execution_count": 436,
     "metadata": {},
     "output_type": "execute_result"
    }
   ],
   "source": [
    "main_likelihood_3, main_decoder_3 = train(train_text, main_test, ngram=3)\n",
    "main_decoded_line_3 = ''.join(main_decoder_3[char] for char in main_test)\n",
    "main_likelihood_3"
   ],
   "metadata": {
    "collapsed": false,
    "ExecuteTime": {
     "start_time": "2023-04-30T03:56:08.427944Z",
     "end_time": "2023-04-30T03:56:14.285801Z"
    }
   }
  },
  {
   "cell_type": "code",
   "execution_count": 437,
   "outputs": [
    {
     "data": {
      "text/plain": "'если вы видите нормальный или почти нормальный текст у этого сообщения который легко прочитать скорее всего вы все сделали правильно и получите максимальный балл за последнее четвертое задание курса хотя конечно я ничего не обещаю'"
     },
     "execution_count": 437,
     "metadata": {},
     "output_type": "execute_result"
    }
   ],
   "source": [
    "main_decoded_line_3"
   ],
   "metadata": {
    "collapsed": false,
    "ExecuteTime": {
     "start_time": "2023-04-30T03:56:14.284804Z",
     "end_time": "2023-04-30T03:56:14.291324Z"
    }
   }
  },
  {
   "cell_type": "code",
   "execution_count": 438,
   "outputs": [],
   "source": [
    "def calc_acc (real, decoded):\n",
    "    acc = 0\n",
    "    for couple_char in zip(real, decoded):\n",
    "        if couple_char[0] == couple_char[1]:\n",
    "            acc += 1\n",
    "    return acc/len(real)"
   ],
   "metadata": {
    "collapsed": false,
    "ExecuteTime": {
     "start_time": "2023-04-30T03:57:09.800461Z",
     "end_time": "2023-04-30T03:57:09.802963Z"
    }
   }
  },
  {
   "cell_type": "code",
   "execution_count": 439,
   "outputs": [
    {
     "data": {
      "text/plain": "1.0"
     },
     "execution_count": 439,
     "metadata": {},
     "output_type": "execute_result"
    }
   ],
   "source": [
    "calc_acc(real_test, main_decoded_line_3)"
   ],
   "metadata": {
    "collapsed": false,
    "ExecuteTime": {
     "start_time": "2023-04-30T03:57:10.036114Z",
     "end_time": "2023-04-30T03:57:10.040675Z"
    }
   }
  },
  {
   "cell_type": "markdown",
   "source": [
    "## Применение"
   ],
   "metadata": {
    "collapsed": false
   }
  },
  {
   "cell_type": "markdown",
   "source": [
    "Думаю, такой способ неплохо покажет себя как базовая модель перевода с одного языка на другой (если ничего неизвестно про язык)"
   ],
   "metadata": {
    "collapsed": false
   }
  },
  {
   "cell_type": "code",
   "execution_count": null,
   "outputs": [],
   "source": [],
   "metadata": {
    "collapsed": false
   }
  }
 ],
 "metadata": {
  "kernelspec": {
   "display_name": "Python 3",
   "language": "python",
   "name": "python3"
  },
  "language_info": {
   "codemirror_mode": {
    "name": "ipython",
    "version": 2
   },
   "file_extension": ".py",
   "mimetype": "text/x-python",
   "name": "python",
   "nbconvert_exporter": "python",
   "pygments_lexer": "ipython2",
   "version": "2.7.6"
  }
 },
 "nbformat": 4,
 "nbformat_minor": 0
}
