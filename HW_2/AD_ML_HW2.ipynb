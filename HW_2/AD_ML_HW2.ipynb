{
 "cells": [
  {
   "cell_type": "code",
   "execution_count": 1,
   "id": "af1d8115",
   "metadata": {},
   "outputs": [],
   "source": [
    "import numpy as np\n",
    "import pandas as pd\n",
    "import re\n",
    "\n",
    "from collections import defaultdict\n",
    "\n",
    "from sklearn.linear_model import LogisticRegression\n",
    "from sklearn.preprocessing import OneHotEncoder\n",
    "from scipy.stats import kendalltau, spearmanr"
   ]
  },
  {
   "cell_type": "code",
   "execution_count": 2,
   "id": "6d4c34a5",
   "metadata": {},
   "outputs": [],
   "source": [
    "data_players = pd.read_pickle(\"./chgk/players.pkl\")\n",
    "data_players = pd.DataFrame.from_dict(data_players, orient='index')"
   ]
  },
  {
   "cell_type": "code",
   "execution_count": 3,
   "id": "57907203",
   "metadata": {},
   "outputs": [
    {
     "data": {
      "text/html": [
       "<div>\n",
       "<style scoped>\n",
       "    .dataframe tbody tr th:only-of-type {\n",
       "        vertical-align: middle;\n",
       "    }\n",
       "\n",
       "    .dataframe tbody tr th {\n",
       "        vertical-align: top;\n",
       "    }\n",
       "\n",
       "    .dataframe thead th {\n",
       "        text-align: right;\n",
       "    }\n",
       "</style>\n",
       "<table border=\"1\" class=\"dataframe\">\n",
       "  <thead>\n",
       "    <tr style=\"text-align: right;\">\n",
       "      <th></th>\n",
       "      <th>id</th>\n",
       "      <th>name</th>\n",
       "      <th>patronymic</th>\n",
       "      <th>surname</th>\n",
       "    </tr>\n",
       "  </thead>\n",
       "  <tbody>\n",
       "    <tr>\n",
       "      <th>1</th>\n",
       "      <td>1</td>\n",
       "      <td>Алексей</td>\n",
       "      <td>None</td>\n",
       "      <td>Абабилов</td>\n",
       "    </tr>\n",
       "    <tr>\n",
       "      <th>10</th>\n",
       "      <td>10</td>\n",
       "      <td>Игорь</td>\n",
       "      <td></td>\n",
       "      <td>Абалов</td>\n",
       "    </tr>\n",
       "    <tr>\n",
       "      <th>11</th>\n",
       "      <td>11</td>\n",
       "      <td>Наталья</td>\n",
       "      <td>Юрьевна</td>\n",
       "      <td>Абалымова</td>\n",
       "    </tr>\n",
       "    <tr>\n",
       "      <th>12</th>\n",
       "      <td>12</td>\n",
       "      <td>Артур</td>\n",
       "      <td>Евгеньевич</td>\n",
       "      <td>Абальян</td>\n",
       "    </tr>\n",
       "    <tr>\n",
       "      <th>13</th>\n",
       "      <td>13</td>\n",
       "      <td>Эрик</td>\n",
       "      <td>Евгеньевич</td>\n",
       "      <td>Абальян</td>\n",
       "    </tr>\n",
       "  </tbody>\n",
       "</table>\n",
       "</div>"
      ],
      "text/plain": [
       "    id     name  patronymic    surname\n",
       "1    1  Алексей        None   Абабилов\n",
       "10  10    Игорь                 Абалов\n",
       "11  11  Наталья     Юрьевна  Абалымова\n",
       "12  12    Артур  Евгеньевич    Абальян\n",
       "13  13     Эрик  Евгеньевич    Абальян"
      ]
     },
     "execution_count": 3,
     "metadata": {},
     "output_type": "execute_result"
    }
   ],
   "source": [
    "data_players.head()"
   ]
  },
  {
   "cell_type": "markdown",
   "id": "1d608792",
   "metadata": {},
   "source": [
    "1 Прочитайте и проанализируйте данные, выберите турниры, в которых есть данные о составах команд и повопросных результатах (поле mask в results.pkl)."
   ]
  },
  {
   "cell_type": "code",
   "execution_count": 4,
   "id": "f4199466",
   "metadata": {},
   "outputs": [
    {
     "data": {
      "text/html": [
       "<div>\n",
       "<style scoped>\n",
       "    .dataframe tbody tr th:only-of-type {\n",
       "        vertical-align: middle;\n",
       "    }\n",
       "\n",
       "    .dataframe tbody tr th {\n",
       "        vertical-align: top;\n",
       "    }\n",
       "\n",
       "    .dataframe thead th {\n",
       "        text-align: right;\n",
       "    }\n",
       "</style>\n",
       "<table border=\"1\" class=\"dataframe\">\n",
       "  <thead>\n",
       "    <tr style=\"text-align: right;\">\n",
       "      <th></th>\n",
       "      <th>id</th>\n",
       "      <th>name</th>\n",
       "      <th>dateStart</th>\n",
       "      <th>dateEnd</th>\n",
       "      <th>type</th>\n",
       "      <th>season</th>\n",
       "      <th>orgcommittee</th>\n",
       "      <th>synchData</th>\n",
       "      <th>questionQty</th>\n",
       "    </tr>\n",
       "  </thead>\n",
       "  <tbody>\n",
       "    <tr>\n",
       "      <th>1</th>\n",
       "      <td>1</td>\n",
       "      <td>Чемпионат Южного Кавказа</td>\n",
       "      <td>2003-07-25T00:00:00+04:00</td>\n",
       "      <td>2003-07-27T00:00:00+04:00</td>\n",
       "      <td>{'id': 2, 'name': 'Обычный'}</td>\n",
       "      <td>/seasons/1</td>\n",
       "      <td>[]</td>\n",
       "      <td>None</td>\n",
       "      <td>None</td>\n",
       "    </tr>\n",
       "    <tr>\n",
       "      <th>2</th>\n",
       "      <td>2</td>\n",
       "      <td>Летние зори</td>\n",
       "      <td>2003-08-09T00:00:00+04:00</td>\n",
       "      <td>2003-08-09T00:00:00+04:00</td>\n",
       "      <td>{'id': 2, 'name': 'Обычный'}</td>\n",
       "      <td>/seasons/1</td>\n",
       "      <td>[]</td>\n",
       "      <td>None</td>\n",
       "      <td>None</td>\n",
       "    </tr>\n",
       "    <tr>\n",
       "      <th>3</th>\n",
       "      <td>3</td>\n",
       "      <td>Турнир в Ижевске</td>\n",
       "      <td>2003-11-22T00:00:00+03:00</td>\n",
       "      <td>2003-11-24T00:00:00+03:00</td>\n",
       "      <td>{'id': 2, 'name': 'Обычный'}</td>\n",
       "      <td>/seasons/2</td>\n",
       "      <td>[]</td>\n",
       "      <td>None</td>\n",
       "      <td>None</td>\n",
       "    </tr>\n",
       "    <tr>\n",
       "      <th>4</th>\n",
       "      <td>4</td>\n",
       "      <td>Чемпионат Украины. Переходной этап</td>\n",
       "      <td>2003-10-11T00:00:00+04:00</td>\n",
       "      <td>2003-10-12T00:00:00+04:00</td>\n",
       "      <td>{'id': 2, 'name': 'Обычный'}</td>\n",
       "      <td>/seasons/2</td>\n",
       "      <td>[]</td>\n",
       "      <td>None</td>\n",
       "      <td>None</td>\n",
       "    </tr>\n",
       "    <tr>\n",
       "      <th>5</th>\n",
       "      <td>5</td>\n",
       "      <td>Бостонское чаепитие</td>\n",
       "      <td>2003-10-10T00:00:00+04:00</td>\n",
       "      <td>2003-10-13T00:00:00+04:00</td>\n",
       "      <td>{'id': 2, 'name': 'Обычный'}</td>\n",
       "      <td>/seasons/2</td>\n",
       "      <td>[]</td>\n",
       "      <td>None</td>\n",
       "      <td>None</td>\n",
       "    </tr>\n",
       "  </tbody>\n",
       "</table>\n",
       "</div>"
      ],
      "text/plain": [
       "   id                                name                  dateStart   \n",
       "1   1            Чемпионат Южного Кавказа  2003-07-25T00:00:00+04:00  \\\n",
       "2   2                         Летние зори  2003-08-09T00:00:00+04:00   \n",
       "3   3                    Турнир в Ижевске  2003-11-22T00:00:00+03:00   \n",
       "4   4  Чемпионат Украины. Переходной этап  2003-10-11T00:00:00+04:00   \n",
       "5   5                 Бостонское чаепитие  2003-10-10T00:00:00+04:00   \n",
       "\n",
       "                     dateEnd                          type      season   \n",
       "1  2003-07-27T00:00:00+04:00  {'id': 2, 'name': 'Обычный'}  /seasons/1  \\\n",
       "2  2003-08-09T00:00:00+04:00  {'id': 2, 'name': 'Обычный'}  /seasons/1   \n",
       "3  2003-11-24T00:00:00+03:00  {'id': 2, 'name': 'Обычный'}  /seasons/2   \n",
       "4  2003-10-12T00:00:00+04:00  {'id': 2, 'name': 'Обычный'}  /seasons/2   \n",
       "5  2003-10-13T00:00:00+04:00  {'id': 2, 'name': 'Обычный'}  /seasons/2   \n",
       "\n",
       "  orgcommittee synchData questionQty  \n",
       "1           []      None        None  \n",
       "2           []      None        None  \n",
       "3           []      None        None  \n",
       "4           []      None        None  \n",
       "5           []      None        None  "
      ]
     },
     "execution_count": 4,
     "metadata": {},
     "output_type": "execute_result"
    }
   ],
   "source": [
    "data_tournaments = pd.read_pickle('./chgk/tournaments.pkl')\n",
    "data_tournaments = pd.DataFrame.from_dict(data_tournaments, orient='index')\n",
    "\n",
    "data_tournaments.head()"
   ]
  },
  {
   "cell_type": "markdown",
   "id": "9c3a47ae",
   "metadata": {},
   "source": [
    "Для унификации предлагаю: взять в тренировочный набор турниры с dateStart из 2019 года; в тестовый — турниры с dateStart из 2020 года."
   ]
  },
  {
   "cell_type": "code",
   "execution_count": 5,
   "id": "eb1675f4",
   "metadata": {},
   "outputs": [],
   "source": [
    "train_data_tournaments = data_tournaments[[date[:4]=='2019' for date in data_tournaments['dateStart']]]\n",
    "test_data_tournaments = data_tournaments[[date[:4]=='2020' for date in data_tournaments['dateStart']]]"
   ]
  },
  {
   "cell_type": "code",
   "execution_count": 6,
   "id": "7d646ada",
   "metadata": {},
   "outputs": [],
   "source": [
    "data_results = pd.read_pickle('./chgk/results.pkl')"
   ]
  },
  {
   "cell_type": "markdown",
   "id": "cd4cfaa7",
   "metadata": {},
   "source": [
    "2 Постройте baseline-модель на основе линейной или логистической регрессии, которая будет обучать рейтинг-лист игроков.\n",
    "\n",
    "Замечания и подсказки:\n",
    "- повопросные результаты — это фактически результаты броска монетки, и их предсказание скорее всего имеет отношение к бинарной классификации;\n",
    "- в разных турнирах вопросы совсем разного уровня сложности, поэтому модель должна это учитывать; скорее всего, модель должна будет явно обучать не только силу каждого игрока, но и сложность каждого вопроса;\n",
    "- для baseline-модели можно забыть о командах и считать, что повопросные результаты команды просто относятся к каждому из её игроков.\n"
   ]
  },
  {
   "cell_type": "code",
   "execution_count": 7,
   "id": "8af7bbb3",
   "metadata": {},
   "outputs": [],
   "source": [
    "def get_res_info(data_results):\n",
    "    data_tour = {}\n",
    "\n",
    "    for tour_id, tour_teams in data_results.items():\n",
    "        cur_tour = defaultdict(dict)\n",
    "        for team in tour_teams:\n",
    "\n",
    "            if ('mask' not in team or\n",
    "                not team['mask'] or\n",
    "                not team['teamMembers'] or\n",
    "                not bool(re.match('^[10]+$', team['mask']))):\n",
    "                continue\n",
    "\n",
    "            team_id = team['team']['id']\n",
    "            cur_tour[team_id]['mask'] = team['mask']\n",
    "            cur_tour[team_id]['players'] = [player['player']['id'] for player in team['teamMembers']]\n",
    "\n",
    "        mask_size = [len(team['mask']) for team in cur_tour.values()]\n",
    "        if mask_size and mask_size.count(mask_size[0]) == len(mask_size):\n",
    "            data_tour[tour_id] = cur_tour\n",
    "    return data_tour"
   ]
  },
  {
   "cell_type": "code",
   "execution_count": 8,
   "id": "3129bc65",
   "metadata": {},
   "outputs": [],
   "source": [
    "def get_df_question(data_tournaments, data_tour_info):\n",
    "    data_question = []\n",
    "    cur_quest = 0\n",
    "    for tour_id in data_tournaments['id']:\n",
    "        if tour_id not in data_tour_info:\n",
    "            continue\n",
    "\n",
    "        for team_id, team_info in data_tour_info[tour_id].items():\n",
    "            quest_nums = np.arange(cur_quest, cur_quest + len(team_info['mask']))\n",
    "            \n",
    "            for player_id in team_info['players']:\n",
    "                for quest_id, ans in enumerate(team_info['mask']):\n",
    "                    data_question.append({'tour_id': tour_id,\n",
    "                                         'team_id':team_id,\n",
    "                                         'player_id':player_id,\n",
    "                                         'question_id': quest_nums[quest_id],\n",
    "                                         'is_answered': ans})\n",
    "        cur_quest += len(team_info['mask'])\n",
    "    return pd.DataFrame.from_dict(data_question)"
   ]
  },
  {
   "cell_type": "code",
   "execution_count": 9,
   "id": "038a556b",
   "metadata": {},
   "outputs": [],
   "source": [
    "data_tour = get_res_info(data_results)"
   ]
  },
  {
   "cell_type": "code",
   "execution_count": 10,
   "id": "26ee6aad",
   "metadata": {},
   "outputs": [
    {
     "data": {
      "text/html": [
       "<div>\n",
       "<style scoped>\n",
       "    .dataframe tbody tr th:only-of-type {\n",
       "        vertical-align: middle;\n",
       "    }\n",
       "\n",
       "    .dataframe tbody tr th {\n",
       "        vertical-align: top;\n",
       "    }\n",
       "\n",
       "    .dataframe thead th {\n",
       "        text-align: right;\n",
       "    }\n",
       "</style>\n",
       "<table border=\"1\" class=\"dataframe\">\n",
       "  <thead>\n",
       "    <tr style=\"text-align: right;\">\n",
       "      <th></th>\n",
       "      <th>tour_id</th>\n",
       "      <th>team_id</th>\n",
       "      <th>player_id</th>\n",
       "      <th>question_id</th>\n",
       "      <th>is_answered</th>\n",
       "    </tr>\n",
       "  </thead>\n",
       "  <tbody>\n",
       "    <tr>\n",
       "      <th>0</th>\n",
       "      <td>4772</td>\n",
       "      <td>45556</td>\n",
       "      <td>6212</td>\n",
       "      <td>0</td>\n",
       "      <td>1</td>\n",
       "    </tr>\n",
       "    <tr>\n",
       "      <th>1</th>\n",
       "      <td>4772</td>\n",
       "      <td>45556</td>\n",
       "      <td>6212</td>\n",
       "      <td>1</td>\n",
       "      <td>1</td>\n",
       "    </tr>\n",
       "    <tr>\n",
       "      <th>2</th>\n",
       "      <td>4772</td>\n",
       "      <td>45556</td>\n",
       "      <td>6212</td>\n",
       "      <td>2</td>\n",
       "      <td>1</td>\n",
       "    </tr>\n",
       "    <tr>\n",
       "      <th>3</th>\n",
       "      <td>4772</td>\n",
       "      <td>45556</td>\n",
       "      <td>6212</td>\n",
       "      <td>3</td>\n",
       "      <td>1</td>\n",
       "    </tr>\n",
       "    <tr>\n",
       "      <th>4</th>\n",
       "      <td>4772</td>\n",
       "      <td>45556</td>\n",
       "      <td>6212</td>\n",
       "      <td>4</td>\n",
       "      <td>1</td>\n",
       "    </tr>\n",
       "  </tbody>\n",
       "</table>\n",
       "</div>"
      ],
      "text/plain": [
       "   tour_id  team_id  player_id  question_id is_answered\n",
       "0     4772    45556       6212            0           1\n",
       "1     4772    45556       6212            1           1\n",
       "2     4772    45556       6212            2           1\n",
       "3     4772    45556       6212            3           1\n",
       "4     4772    45556       6212            4           1"
      ]
     },
     "execution_count": 10,
     "metadata": {},
     "output_type": "execute_result"
    }
   ],
   "source": [
    "train_data_question = get_df_question(train_data_tournaments, data_tour)\n",
    "train_data_question.head()"
   ]
  },
  {
   "cell_type": "code",
   "execution_count": 11,
   "id": "95b3d042",
   "metadata": {},
   "outputs": [],
   "source": [
    "encoder = OneHotEncoder(handle_unknown='ignore')\n",
    "train_features = encoder.fit_transform(train_data_question[['player_id', 'question_id']])"
   ]
  },
  {
   "cell_type": "code",
   "execution_count": 12,
   "id": "43f6a436",
   "metadata": {},
   "outputs": [
    {
     "data": {
      "text/html": [
       "<style>#sk-container-id-1 {color: black;background-color: white;}#sk-container-id-1 pre{padding: 0;}#sk-container-id-1 div.sk-toggleable {background-color: white;}#sk-container-id-1 label.sk-toggleable__label {cursor: pointer;display: block;width: 100%;margin-bottom: 0;padding: 0.3em;box-sizing: border-box;text-align: center;}#sk-container-id-1 label.sk-toggleable__label-arrow:before {content: \"▸\";float: left;margin-right: 0.25em;color: #696969;}#sk-container-id-1 label.sk-toggleable__label-arrow:hover:before {color: black;}#sk-container-id-1 div.sk-estimator:hover label.sk-toggleable__label-arrow:before {color: black;}#sk-container-id-1 div.sk-toggleable__content {max-height: 0;max-width: 0;overflow: hidden;text-align: left;background-color: #f0f8ff;}#sk-container-id-1 div.sk-toggleable__content pre {margin: 0.2em;color: black;border-radius: 0.25em;background-color: #f0f8ff;}#sk-container-id-1 input.sk-toggleable__control:checked~div.sk-toggleable__content {max-height: 200px;max-width: 100%;overflow: auto;}#sk-container-id-1 input.sk-toggleable__control:checked~label.sk-toggleable__label-arrow:before {content: \"▾\";}#sk-container-id-1 div.sk-estimator input.sk-toggleable__control:checked~label.sk-toggleable__label {background-color: #d4ebff;}#sk-container-id-1 div.sk-label input.sk-toggleable__control:checked~label.sk-toggleable__label {background-color: #d4ebff;}#sk-container-id-1 input.sk-hidden--visually {border: 0;clip: rect(1px 1px 1px 1px);clip: rect(1px, 1px, 1px, 1px);height: 1px;margin: -1px;overflow: hidden;padding: 0;position: absolute;width: 1px;}#sk-container-id-1 div.sk-estimator {font-family: monospace;background-color: #f0f8ff;border: 1px dotted black;border-radius: 0.25em;box-sizing: border-box;margin-bottom: 0.5em;}#sk-container-id-1 div.sk-estimator:hover {background-color: #d4ebff;}#sk-container-id-1 div.sk-parallel-item::after {content: \"\";width: 100%;border-bottom: 1px solid gray;flex-grow: 1;}#sk-container-id-1 div.sk-label:hover label.sk-toggleable__label {background-color: #d4ebff;}#sk-container-id-1 div.sk-serial::before {content: \"\";position: absolute;border-left: 1px solid gray;box-sizing: border-box;top: 0;bottom: 0;left: 50%;z-index: 0;}#sk-container-id-1 div.sk-serial {display: flex;flex-direction: column;align-items: center;background-color: white;padding-right: 0.2em;padding-left: 0.2em;position: relative;}#sk-container-id-1 div.sk-item {position: relative;z-index: 1;}#sk-container-id-1 div.sk-parallel {display: flex;align-items: stretch;justify-content: center;background-color: white;position: relative;}#sk-container-id-1 div.sk-item::before, #sk-container-id-1 div.sk-parallel-item::before {content: \"\";position: absolute;border-left: 1px solid gray;box-sizing: border-box;top: 0;bottom: 0;left: 50%;z-index: -1;}#sk-container-id-1 div.sk-parallel-item {display: flex;flex-direction: column;z-index: 1;position: relative;background-color: white;}#sk-container-id-1 div.sk-parallel-item:first-child::after {align-self: flex-end;width: 50%;}#sk-container-id-1 div.sk-parallel-item:last-child::after {align-self: flex-start;width: 50%;}#sk-container-id-1 div.sk-parallel-item:only-child::after {width: 0;}#sk-container-id-1 div.sk-dashed-wrapped {border: 1px dashed gray;margin: 0 0.4em 0.5em 0.4em;box-sizing: border-box;padding-bottom: 0.4em;background-color: white;}#sk-container-id-1 div.sk-label label {font-family: monospace;font-weight: bold;display: inline-block;line-height: 1.2em;}#sk-container-id-1 div.sk-label-container {text-align: center;}#sk-container-id-1 div.sk-container {/* jupyter's `normalize.less` sets `[hidden] { display: none; }` but bootstrap.min.css set `[hidden] { display: none !important; }` so we also need the `!important` here to be able to override the default hidden behavior on the sphinx rendered scikit-learn.org. See: https://github.com/scikit-learn/scikit-learn/issues/21755 */display: inline-block !important;position: relative;}#sk-container-id-1 div.sk-text-repr-fallback {display: none;}</style><div id=\"sk-container-id-1\" class=\"sk-top-container\"><div class=\"sk-text-repr-fallback\"><pre>LogisticRegression(random_state=42, solver=&#x27;liblinear&#x27;)</pre><b>In a Jupyter environment, please rerun this cell to show the HTML representation or trust the notebook. <br />On GitHub, the HTML representation is unable to render, please try loading this page with nbviewer.org.</b></div><div class=\"sk-container\" hidden><div class=\"sk-item\"><div class=\"sk-estimator sk-toggleable\"><input class=\"sk-toggleable__control sk-hidden--visually\" id=\"sk-estimator-id-1\" type=\"checkbox\" checked><label for=\"sk-estimator-id-1\" class=\"sk-toggleable__label sk-toggleable__label-arrow\">LogisticRegression</label><div class=\"sk-toggleable__content\"><pre>LogisticRegression(random_state=42, solver=&#x27;liblinear&#x27;)</pre></div></div></div></div></div>"
      ],
      "text/plain": [
       "LogisticRegression(random_state=42, solver='liblinear')"
      ]
     },
     "execution_count": 12,
     "metadata": {},
     "output_type": "execute_result"
    }
   ],
   "source": [
    "baseline_logreg = LogisticRegression(solver='liblinear', random_state=42)\n",
    "baseline_logreg.fit(train_features, train_data_question['is_answered'])"
   ]
  },
  {
   "cell_type": "code",
   "execution_count": 13,
   "id": "2e6eec4a",
   "metadata": {},
   "outputs": [],
   "source": [
    "def get_player_rating(rating, player_names, data_question):\n",
    "    players_rating = pd.DataFrame((player_names['surname'] + ' ' \n",
    "                                  + player_names['name'] + ' ' \n",
    "                                  + player_names['patronymic']).dropna().items(), \n",
    "                                 columns=['player_id', 'fio'])\n",
    "    \n",
    "    train_uniq_player = data_question['player_id'].unique()\n",
    "    players_rating = players_rating[[player in train_uniq_player for player in players_rating['player_id']]]\n",
    "    players_rating['rating'] = rating[:len(players_rating)]\n",
    "    return players_rating.sort_values(by='rating', ascending=False).reset_index(drop=True)"
   ]
  },
  {
   "cell_type": "code",
   "execution_count": 14,
   "id": "2e72a471",
   "metadata": {},
   "outputs": [
    {
     "data": {
      "text/html": [
       "<div>\n",
       "<style scoped>\n",
       "    .dataframe tbody tr th:only-of-type {\n",
       "        vertical-align: middle;\n",
       "    }\n",
       "\n",
       "    .dataframe tbody tr th {\n",
       "        vertical-align: top;\n",
       "    }\n",
       "\n",
       "    .dataframe thead th {\n",
       "        text-align: right;\n",
       "    }\n",
       "</style>\n",
       "<table border=\"1\" class=\"dataframe\">\n",
       "  <thead>\n",
       "    <tr style=\"text-align: right;\">\n",
       "      <th></th>\n",
       "      <th>player_id</th>\n",
       "      <th>fio</th>\n",
       "      <th>rating</th>\n",
       "    </tr>\n",
       "  </thead>\n",
       "  <tbody>\n",
       "    <tr>\n",
       "      <th>0</th>\n",
       "      <td>27403</td>\n",
       "      <td>Руссо Максим Михайлович</td>\n",
       "      <td>4.069689</td>\n",
       "    </tr>\n",
       "    <tr>\n",
       "      <th>1</th>\n",
       "      <td>4270</td>\n",
       "      <td>Брутер Александра Владимировна</td>\n",
       "      <td>3.932983</td>\n",
       "    </tr>\n",
       "    <tr>\n",
       "      <th>2</th>\n",
       "      <td>28751</td>\n",
       "      <td>Семушин Иван Николаевич</td>\n",
       "      <td>3.883775</td>\n",
       "    </tr>\n",
       "    <tr>\n",
       "      <th>3</th>\n",
       "      <td>27822</td>\n",
       "      <td>Савченков Михаил Владимирович</td>\n",
       "      <td>3.855190</td>\n",
       "    </tr>\n",
       "    <tr>\n",
       "      <th>4</th>\n",
       "      <td>30270</td>\n",
       "      <td>Спешков Сергей Леонидович</td>\n",
       "      <td>3.758045</td>\n",
       "    </tr>\n",
       "    <tr>\n",
       "      <th>...</th>\n",
       "      <td>...</td>\n",
       "      <td>...</td>\n",
       "      <td>...</td>\n",
       "    </tr>\n",
       "    <tr>\n",
       "      <th>55146</th>\n",
       "      <td>209400</td>\n",
       "      <td>Шапуров Илья Владиславович</td>\n",
       "      <td>-3.732053</td>\n",
       "    </tr>\n",
       "    <tr>\n",
       "      <th>55147</th>\n",
       "      <td>209401</td>\n",
       "      <td>Казарин Михаил Максимович</td>\n",
       "      <td>-3.732053</td>\n",
       "    </tr>\n",
       "    <tr>\n",
       "      <th>55148</th>\n",
       "      <td>203842</td>\n",
       "      <td>Балакина Вероника Андреевна</td>\n",
       "      <td>-3.759571</td>\n",
       "    </tr>\n",
       "    <tr>\n",
       "      <th>55149</th>\n",
       "      <td>203845</td>\n",
       "      <td>Бурштын Андрей Кириллович</td>\n",
       "      <td>-3.878246</td>\n",
       "    </tr>\n",
       "    <tr>\n",
       "      <th>55150</th>\n",
       "      <td>203843</td>\n",
       "      <td>Чурсина Анастасия Павловна</td>\n",
       "      <td>-4.139337</td>\n",
       "    </tr>\n",
       "  </tbody>\n",
       "</table>\n",
       "<p>55151 rows × 3 columns</p>\n",
       "</div>"
      ],
      "text/plain": [
       "       player_id                             fio    rating\n",
       "0          27403         Руссо Максим Михайлович  4.069689\n",
       "1           4270  Брутер Александра Владимировна  3.932983\n",
       "2          28751         Семушин Иван Николаевич  3.883775\n",
       "3          27822   Савченков Михаил Владимирович  3.855190\n",
       "4          30270       Спешков Сергей Леонидович  3.758045\n",
       "...          ...                             ...       ...\n",
       "55146     209400      Шапуров Илья Владиславович -3.732053\n",
       "55147     209401       Казарин Михаил Максимович -3.732053\n",
       "55148     203842     Балакина Вероника Андреевна -3.759571\n",
       "55149     203845       Бурштын Андрей Кириллович -3.878246\n",
       "55150     203843      Чурсина Анастасия Павловна -4.139337\n",
       "\n",
       "[55151 rows x 3 columns]"
      ]
     },
     "execution_count": 14,
     "metadata": {},
     "output_type": "execute_result"
    }
   ],
   "source": [
    "players_rating_train = get_player_rating(baseline_logreg.coef_[0], data_players, train_data_question)\n",
    "players_rating_train"
   ]
  },
  {
   "cell_type": "markdown",
   "id": "9b6df24b",
   "metadata": {},
   "source": [
    "3 Качество рейтинг-системы оценивается качеством предсказаний результатов турниров. Но сами повопросные результаты наши модели предсказывать вряд ли смогут, ведь неизвестно, насколько сложными окажутся вопросы в будущих турнирах; да и не нужны эти предсказания сами по себе. Поэтому:\n",
    "- предложите способ предсказать результаты нового турнира с известными составами, но неизвестными вопросами, в виде ранжирования команд;\n",
    "- в качестве метрики качества на тестовом наборе давайте считать ранговые корреляции Спирмена и Кендалла (их можно взять в пакете scipy) между реальным ранжированием в результатах турнира и предсказанным моделью, усреднённые по тестовому множеству турниров."
   ]
  },
  {
   "cell_type": "code",
   "execution_count": 15,
   "id": "334bf89a",
   "metadata": {},
   "outputs": [],
   "source": [
    "def get_test_data_question(test_data_tournaments, data_tour):\n",
    "    test_data_question = get_df_question(test_data_tournaments, data_tour)\n",
    "    test_data_question[[\"is_answered\"]] = test_data_question[[\"is_answered\"]].apply(pd.to_numeric)\n",
    "    test_data_question['is_answered'] = test_data_question.groupby(['tour_id', 'team_id', \n",
    "                                                                    'player_id'])['is_answered'].transform('sum')\n",
    "    test_data_question['question_id'] = -1\n",
    "    test_data_question = test_data_question.drop_duplicates()\n",
    "    return test_data_question"
   ]
  },
  {
   "cell_type": "code",
   "execution_count": 16,
   "id": "440e113c",
   "metadata": {},
   "outputs": [
    {
     "data": {
      "text/html": [
       "<div>\n",
       "<style scoped>\n",
       "    .dataframe tbody tr th:only-of-type {\n",
       "        vertical-align: middle;\n",
       "    }\n",
       "\n",
       "    .dataframe tbody tr th {\n",
       "        vertical-align: top;\n",
       "    }\n",
       "\n",
       "    .dataframe thead th {\n",
       "        text-align: right;\n",
       "    }\n",
       "</style>\n",
       "<table border=\"1\" class=\"dataframe\">\n",
       "  <thead>\n",
       "    <tr style=\"text-align: right;\">\n",
       "      <th></th>\n",
       "      <th>tour_id</th>\n",
       "      <th>team_id</th>\n",
       "      <th>player_id</th>\n",
       "      <th>question_id</th>\n",
       "      <th>is_answered</th>\n",
       "    </tr>\n",
       "  </thead>\n",
       "  <tbody>\n",
       "    <tr>\n",
       "      <th>0</th>\n",
       "      <td>5414</td>\n",
       "      <td>66120</td>\n",
       "      <td>18490</td>\n",
       "      <td>-1</td>\n",
       "      <td>33</td>\n",
       "    </tr>\n",
       "    <tr>\n",
       "      <th>36</th>\n",
       "      <td>5414</td>\n",
       "      <td>66120</td>\n",
       "      <td>116901</td>\n",
       "      <td>-1</td>\n",
       "      <td>33</td>\n",
       "    </tr>\n",
       "    <tr>\n",
       "      <th>72</th>\n",
       "      <td>5414</td>\n",
       "      <td>66120</td>\n",
       "      <td>8532</td>\n",
       "      <td>-1</td>\n",
       "      <td>33</td>\n",
       "    </tr>\n",
       "    <tr>\n",
       "      <th>108</th>\n",
       "      <td>5414</td>\n",
       "      <td>66120</td>\n",
       "      <td>42346</td>\n",
       "      <td>-1</td>\n",
       "      <td>33</td>\n",
       "    </tr>\n",
       "    <tr>\n",
       "      <th>144</th>\n",
       "      <td>5414</td>\n",
       "      <td>66120</td>\n",
       "      <td>123190</td>\n",
       "      <td>-1</td>\n",
       "      <td>33</td>\n",
       "    </tr>\n",
       "  </tbody>\n",
       "</table>\n",
       "</div>"
      ],
      "text/plain": [
       "     tour_id  team_id  player_id  question_id  is_answered\n",
       "0       5414    66120      18490           -1           33\n",
       "36      5414    66120     116901           -1           33\n",
       "72      5414    66120       8532           -1           33\n",
       "108     5414    66120      42346           -1           33\n",
       "144     5414    66120     123190           -1           33"
      ]
     },
     "execution_count": 16,
     "metadata": {},
     "output_type": "execute_result"
    }
   ],
   "source": [
    "test_data_question = get_test_data_question(test_data_tournaments, data_tour)\n",
    "test_data_question.head()"
   ]
  },
  {
   "cell_type": "code",
   "execution_count": 17,
   "id": "d42643aa",
   "metadata": {},
   "outputs": [],
   "source": [
    "test_features = encoder.transform(test_data_question[['player_id', 'question_id']])\n",
    "predict = baseline_logreg.predict_proba(test_features)[:,1]"
   ]
  },
  {
   "cell_type": "code",
   "execution_count": 18,
   "id": "ae0e6101",
   "metadata": {},
   "outputs": [],
   "source": [
    "def get_correlation_values(data, predict):\n",
    "    data['predict'] = predict.copy()\n",
    "    #вероятность того, что хотя бы 1 из команды ответил\n",
    "    data['prob_ans'] = data.groupby(['tour_id', 'team_id'])['predict'].transform(lambda x: 1 - np.prod(1 - x))\n",
    "\n",
    "    data = data[['tour_id', 'team_id', 'is_answered', 'prob_ans']].drop_duplicates().reset_index(drop=True)\n",
    "\n",
    "    #real rating \n",
    "    data = data.sort_values(['tour_id', 'is_answered'], ascending=False).reset_index(drop=True)\n",
    "    data['real_rating'] = data.groupby(['tour_id'])['is_answered'].transform(lambda x: range(1, len(x) + 1))\n",
    "\n",
    "    #pred rating \n",
    "    data = data.sort_values(['tour_id', 'prob_ans'], ascending=False).reset_index(drop=True)\n",
    "    data['pred_rating'] = data.groupby(['tour_id'])['prob_ans'].transform(lambda x: range(1, len(x) + 1))\n",
    "\n",
    "    spearmanr_corr_value = data.groupby(['tour_id']).apply(lambda x: spearmanr(x['real_rating'], x['pred_rating']).statistic).mean()\n",
    "    kendalltau_corr_value = data.groupby(['tour_id']).apply(lambda x: kendalltau(x['real_rating'], x['pred_rating']).statistic).mean()\n",
    "    \n",
    "    return spearmanr_corr_value, kendalltau_corr_value"
   ]
  },
  {
   "cell_type": "code",
   "execution_count": 19,
   "id": "8b07ef75",
   "metadata": {},
   "outputs": [
    {
     "name": "stdout",
     "output_type": "stream",
     "text": [
      "spearamanr value = 0.7803548003150785; kendalltau value = 0.6116458432819316\n"
     ]
    }
   ],
   "source": [
    "spearmanr_corr_value, kendalltau_corr_value = get_correlation_values(test_data_question, predict)\n",
    "print(f'spearamanr value = {spearmanr_corr_value}; kendalltau value = {kendalltau_corr_value}')"
   ]
  },
  {
   "cell_type": "markdown",
   "id": "1518590c",
   "metadata": {},
   "source": [
    "4 Теперь главное: ЧГК — это всё-таки командная игра. Поэтому:\n",
    "- предложите способ учитывать то, что на вопрос отвечают сразу несколько игроков; скорее всего, понадобятся скрытые переменные; не стесняйтесь делать упрощающие предположения, но теперь переменные “игрок X ответил на вопрос Y” при условии данных должны стать зависимыми для игроков одной и той же команды;\n",
    "- разработайте EM-схему для обучения этой модели, реализуйте её в коде;\n",
    "- обучите несколько итераций, убедитесь, что целевые метрики со временем растут (скорее всего, ненамного, но расти должны), выберите лучшую модель, используя целевые метрики.\n"
   ]
  },
  {
   "cell_type": "markdown",
   "id": "6d99e89a",
   "metadata": {},
   "source": [
    "В прошлом пункте мы считали, если команда ответила, то и каждый участник ответил. Если команда не ответила, то никто из участников не овтетил\n",
    "\n",
    "- скрытая переменная - как ответил участник в рамках одной команды\n",
    "- наблюдаемая переменная - как ответила команда \n",
    "\n",
    "- - На E-шаге (expectation) изменяем скрытые переменные\n",
    "- - На M-шаге (maximization) обучаем логистическую регрессию на полученных скрытых переменных"
   ]
  },
  {
   "cell_type": "code",
   "execution_count": 20,
   "id": "6632d0f2",
   "metadata": {},
   "outputs": [],
   "source": [
    "import torch\n",
    "from torch import nn"
   ]
  },
  {
   "cell_type": "code",
   "execution_count": 21,
   "id": "f280d51e",
   "metadata": {},
   "outputs": [],
   "source": [
    "DEVICE = 'cuda' if torch.cuda.is_available() else 'cpu'"
   ]
  },
  {
   "cell_type": "code",
   "execution_count": 22,
   "id": "dfd60b95",
   "metadata": {},
   "outputs": [],
   "source": [
    "def convert_cst2tensor(data):\n",
    "    coo = data.tocoo()\n",
    "    i = torch.LongTensor(np.vstack((coo.row, coo.col))).to(DEVICE)\n",
    "    v = torch.FloatTensor(coo.data).to(DEVICE)\n",
    "    return torch.sparse.FloatTensor(i, v, torch.Size(coo.shape)).to(DEVICE)"
   ]
  },
  {
   "cell_type": "code",
   "execution_count": 44,
   "id": "2c4a8710",
   "metadata": {},
   "outputs": [],
   "source": [
    "class LogReg:\n",
    "    \n",
    "    class _LogReg(nn.Module):\n",
    "        def __init__(self, in_channel):\n",
    "            super().__init__()\n",
    "            self.linear = nn.Linear(in_channel, 1)\n",
    "\n",
    "        def forward(self, x):\n",
    "            return torch.sigmoid(self.linear(x))\n",
    "    \n",
    "    \n",
    "    def __init__(self, base_coef, base_bias):\n",
    "        self.logreg_model = self._LogReg(base_coef.shape[1]).to(DEVICE)\n",
    "        self.logreg_model.linear.weight = nn.parameter.Parameter(torch.as_tensor(base_coef, dtype=torch.float32))\n",
    "        self.logreg_model.linear.bias = nn.parameter.Parameter(torch.as_tensor(base_bias, dtype=torch.float32))\n",
    "        self.loss = nn.BCELoss()\n",
    "        self.optim = torch.optim.SGD(self.logreg_model.parameters(), momentum=0.75, lr=0.1)\n",
    "    \n",
    "    \n",
    "    def fit(self, features, target, num_epoch=20):\n",
    "        features = convert_cst2tensor(features)\n",
    "        target = torch.as_tensor(target).to(DEVICE).unsqueeze(1)\n",
    "        self.logreg_model.train()\n",
    "\n",
    "        for _ in range(num_epoch):\n",
    "            self.logreg_model.zero_grad()\n",
    "            pred = self.logreg_model(features)\n",
    "            loss = self.loss(pred, target)\n",
    "            loss.backward()\n",
    "            self.optim.step()\n",
    "        return \n",
    "    \n",
    "    \n",
    "    def predict(self, features):\n",
    "        features = convert_cst2tensor(features)\n",
    "        self.logreg_model.to(DEVICE)\n",
    "        with torch.no_grad():\n",
    "            return self.logreg_model(features).detach().cpu().numpy()\n",
    "        \n",
    "    def get_coef(self):\n",
    "        return self.logreg_model.linear.weight.detach().cpu().numpy()[0]"
   ]
  },
  {
   "cell_type": "code",
   "execution_count": 52,
   "id": "93de3932",
   "metadata": {},
   "outputs": [],
   "source": [
    "def em_algo(base_model, tr_data, tr_features, test_data, test_features, num_iter=5):\n",
    "    \n",
    "    data = tr_data.copy()\n",
    "    model = LogReg(base_model.coef_, base_model.intercept_[0])\n",
    "    for _ in range(num_iter):\n",
    "        train_pred = model.predict(tr_features).squeeze()\n",
    "        \n",
    "        #make expectation iter\n",
    "        data['pred'] = 1 - train_pred.copy()\n",
    "        player_skill = data.groupby(['team_id', 'question_id']).agg({'pred': 'prod'}).reset_index()\n",
    "        player_skill['pred'] = 1 - player_skill['pred']\n",
    "        player_skill = data[['team_id', 'question_id']].merge(player_skill)\n",
    "        \n",
    "        # заметно медленнее работает \n",
    "#         data['player_skill'] = data.groupby(['team_id', 'question_id'])['pred'].transform(lambda x: 1 - np.prod(1 - x))\n",
    "\n",
    "        data['pred'] = np.clip(data['pred']/player_skill['pred'], 0, 1).values\n",
    "        data.loc[data['is_answered']==0,'pred'] = 0\n",
    "        \n",
    "        #make maximization iter\n",
    "        model.fit(tr_features, data['pred'])\n",
    "        \n",
    "        test_pred = model.predict(test_features)\n",
    "        spearmanr_corr_value, kendalltau_corr_value = get_correlation_values(test_data, test_pred)\n",
    "        print(f'spearamanr value = {spearmanr_corr_value}; kendalltau value = {kendalltau_corr_value}\\n')\n",
    "    return model"
   ]
  },
  {
   "cell_type": "code",
   "execution_count": 53,
   "id": "7c4647b5",
   "metadata": {},
   "outputs": [
    {
     "name": "stdout",
     "output_type": "stream",
     "text": [
      "spearamanr value = 0.7669381416020993; kendalltau value = 0.5992687758507924\n",
      "\n",
      "spearamanr value = 0.7750432673543266; kendalltau value = 0.6065167364370256\n",
      "\n",
      "spearamanr value = 0.7705292392410755; kendalltau value = 0.6025995644372697\n",
      "\n",
      "spearamanr value = 0.7732606199679813; kendalltau value = 0.6050979386881983\n",
      "\n",
      "spearamanr value = 0.7716155713108259; kendalltau value = 0.6037176555994278\n",
      "\n"
     ]
    }
   ],
   "source": [
    "em_model = em_algo(baseline_logreg, train_data_question, train_features, test_data_question, test_features)"
   ]
  },
  {
   "cell_type": "markdown",
   "id": "e69ed332",
   "metadata": {},
   "source": [
    "*Заметим что целевые метрики растут, но не так значительно*"
   ]
  },
  {
   "cell_type": "markdown",
   "id": "6b3cee59",
   "metadata": {},
   "source": [
    "5. А что там с вопросами? Постройте “рейтинг-лист” турниров по сложности вопросов. Соответствует ли он интуиции (например, на чемпионате мира в целом должны быть сложные вопросы, а на турнирах для школьников — простые)? Если будет интересно: постройте топ сложных и простых вопросов со ссылками на конкретные записи в базе вопросов ЧГК (это чисто техническое дело, тут никакого ML нету).\n"
   ]
  }
 ],
 "metadata": {
  "kernelspec": {
   "display_name": "Python 3 (ipykernel)",
   "language": "python",
   "name": "python3"
  },
  "language_info": {
   "codemirror_mode": {
    "name": "ipython",
    "version": 3
   },
   "file_extension": ".py",
   "mimetype": "text/x-python",
   "name": "python",
   "nbconvert_exporter": "python",
   "pygments_lexer": "ipython3",
   "version": "3.11.2"
  }
 },
 "nbformat": 4,
 "nbformat_minor": 5
}
